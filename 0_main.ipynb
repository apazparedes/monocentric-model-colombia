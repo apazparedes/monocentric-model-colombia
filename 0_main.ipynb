{
 "cells": [
  {
   "cell_type": "markdown",
   "id": "6876656d-de92-4b35-8ea2-83c817f37369",
   "metadata": {},
   "source": [
    "Le coût de la vie en Colombie, un arbitrage multiple : le modèle monocentrique permet non seulement d'étudier le gradient distance-logement des dépenses mais aussi de capturer l'effet taille d'un pays en développement"
   ]
  },
  {
   "cell_type": "markdown",
   "id": "376c0337-708d-4224-9566-fcbd5b84b4f9",
   "metadata": {},
   "source": [
    "Introduction : Motivation et courte revue de la littérature\n",
    "\n",
    "\n",
    "L'étude du coût de la vie dans les territoires est devenue particulièrement pertinante aujourd'hui. Les mouvements sociaux récents comme celui des gilets Jaunes, Insulate Britain - ou plus largement la Covid-19 qui a tout aussi renforcé les inégalités socio-spatiales et cristallisé des 'géographies du mécontentement' (Rodriguez-Pose, 2020), sont tous des exemples qui soulignent à quel point la question du coût de la vie est pressante et actuelle dans le monde. Si c'est un problème global, il semble d'autant plus important dans les pays en développements, où les thématiques urbaines mériteraient d'y être encore plus étudiées (Bryan et al., 2020; pp.290,291). \n",
    "\n",
    "**c'est brouillon a partir de la:** \n",
    "\n",
    "Notre analyse du coût de la vie repose sur un modèle monocentrique simplifié et cherche à mesurer les effets d'agglomération dans le cas du développement. \n",
    "- (a) pourquoi le modele monocentrique fonctionne bien pour etudier le cout de la vie - en general ? empiriquement, c'est un modele qui reflete une realite economique, (a,1) en niveau, il permet de capturer la majeure partie de la variabilite du cout de la vie entre plusieurs territoires: environ 50% du budget des menages est composé du couple transport+logement **references, donnees manquantes** (Note: voir les differents postes de consommation du budget des menages - y a l'alimentation, // il faudrait justifier le zoom sur logement-transport. pour ca, il faudra surement **faire des statistiques descriptives a partir de la base, prendre tous les postes de depenses (alimentation, logement, transport, culture, education...) et montrer que la variabilite entre les territoires vient du couple logement-transport)** // parler aussi du trade-off Alonso-muth selon les amenites (a,2) en relatif, ce modele permet de comparer plusieurs territoires entre eux = en termes de politiques publiques, cela permet de reperer les 'gagnants' et 'perdants' des effets d'agglomeration: Politiques publiques, quels territoires demandent plus de soutien economique ? \n",
    "- (b) parler des effets d'agglomerations : pourquoi ca justifie l'usage d'un modele monocentrique ? [ canal de transmission, pour un territoire donne : + activite economique (agglomeration) -> + densite -> + demande pour les amenites -> + cout de logement -> + cout de la vie -> periurbanisation ] // c'est precisement l'arbitrage logement-transport decrit par le modele // 2eme interet du modele monocentrique dans l'etude des effets d'agglo : monocentrisme peu etudié dans les pays en dev, et notamment, on identifie un canal de transmission inverse a cause du contexte de developpement economique [reverse causality, pour un territoire donne: amelioration des conditions de vies (+ offre d'amenites) -> +demande pour amenites, vivre à ce territoire donné -> +densité (agglomeration)] \n",
    "c'est notre addition par rapport à France Strategie (2023) sur lequel on se refere pour notre methodologie **trouver d'autres papiers connexes** \n",
    "- (c) Pourquoi etudier ce modele dans le cadre de la colombie?\n",
    "(0) grande diversite socio-spatiale = on a surement une organisation polycentrique. on veut tester cette hypothese\n",
    "(1) etudier precisement ce probleme de reverse causality, reduire la sur-estimation \n",
    "(2) richesse des donnees le permet (utilrank)\n",
    "\n",
    "\n",
    "Le (a) au dessus manque d'enjeu\n",
    "Le (c) : il faut montrer plus tot le paradoxe de la mixite sociale et l'agglomeration = montrer qu'on peut intuiter le resultat polycentrique. les explications sociologiques, finesse qui n'est pas mis en avant par les modeles economiques \n"
   ]
  },
  {
   "cell_type": "markdown",
   "id": "9141aab2-67d9-4faf-80d2-d9d2d664bb8d",
   "metadata": {},
   "source": [
    "Question : la Colombie, en tant que pays en développement, présente la dualité suivante : non seulement elle se caractérise par une forte mixité sociale selon les territoires, mais elle présente également des densités de population élevées et des effets d'agglomération. Ces deux effets contradictoires remettent en question le modèle monocentrique classique. Par conséquent, nous nous demandons si la Colombie est structurée de manière monocentrique ou polycentrique. Repondre a cette question permet aussi de reperer les territoires les plus desavantages, et donc d'offrir des recommandations quant aux territoires à revivifier, redynamiser"
   ]
  },
  {
   "cell_type": "markdown",
   "id": "de2e93bb-ab56-410f-aecb-84cbfa997832",
   "metadata": {},
   "source": [
    "Plan : \n",
    "\n",
    "0. Collecte des donnees (voir fichiers de données ici **lien du dossier manquant**)\n",
    "\n",
    "1. Traitement de données \n",
    "\n",
    "    1.a. Les merges\n",
    "   \n",
    "1.a.1. À Date fixée (un mois donné), les trois couches géographiques à merger (capitale(area), periurbain(cabecerra), rural)\n",
    "   \n",
    "1.a.2. Repliquer l'etape precedente pour tous les mois de 2021, puis merger ces 12 bases **tout depend de ce qu'on souhaite faire** dans mon etude de base, j'ai fait en cross-section, donc seulement les donnees de decembre (dans ce cas la, on skip 2.a.2)\n",
    "           si on decide de faire un panel (jan+feb+...+dec). il faut faire cette etape 2.a.2 **regarder d'abord si les individus sont les memes de mois en mois. si c'est pas le cas, c'est pas la peine d'essayer!!!!** **il faut regarder comment s'organise la collecte de donnees. a priori, c'est mensuel. mais le probleme avec l'usage du panel : c'est peut etre de perdre des individus sur le panel cylindré // mais on aura juste a documenter l'attrition//**\n",
    "           \n",
    "    1.b Data cleaning, traitement des variables :\n",
    "   \n",
    "            1.b.1 Creer une variable categorielle de territoire (territoire) selon la densite de population\n",
    "   \n",
    "            1.b.2 Creer Loyer imputé // Loyer reel (selon methode France Strategie 2023)\n",
    "   \n",
    "            1.b.3 Sommer les variables **si on decide de faire en panel // peut etre qu'il faudra faire des moyennes sur les 12 mois, a voir** \n",
    "\n",
    "3. Statistiques descriptives (des variables qui nous interessent: les distributions. on devrait retrouver la normalite, car c'est une enquete = on peut tranquillement faire de l'econometrie, sans biais de selection)\n",
    "\n",
    "    2.0. Dictionnaire de variables (pour avoir une vue globale de la base) // exploration, documenter l'attrition\n",
    "   \n",
    "    2.a. Sur une date donnee, area+cabecerra+rural\n",
    "   \n",
    "    2.b. Sur toute la base (jan+...+dec)\n",
    "   \n",
    "    2.c. peut etre traitement des outliers ? \n",
    "\n",
    "5. Selection des variables et specification du modele : regressions: stepwise regression\n",
    "   \n",
    "    -3.1. modele monocentrique sans amenites, sans caracteristiques individuelles (juste y=loyer, x=territoire)\n",
    "        - loyer reel\n",
    "        - loyer impute\n",
    "   \n",
    "    -3.2. modele monocentrique sans amenites, avec caracteristiques individuelles (y=loyer, x1=territoire, z=vecteur de carac indiv)\n",
    "        - loyer reel\n",
    "        - loyer impute\n",
    "   \n",
    "    -3.3 modele monocentrique avec amenites, avec caracteristiques individuelles (y=loyer, x1= territoire, z= vecteur de carac indiv, l=vecteur d'amenites)\n",
    "        - loyer reel (a)\n",
    "        - loyer impute (b)\n",
    "   \n",
    "    -3.4 tests de robustesse\n",
    "        - on le fait juste pour 4.3 (a), 4.3(b) : collinearite, endogeneite, heteroskedasticite, outliers? \n",
    "\n",
    "7. Visualisation par cartes // selon les categories de territoires\n",
    "    -les resultats des regs 3.3\n",
    "    -differentes metriques? conso transport/conso logement // moyennes"
   ]
  },
  {
   "cell_type": "markdown",
   "id": "f4e4e1a1-2bec-43a7-8e92-56e17367a27d",
   "metadata": {},
   "source": [
    "Bibliographie du Notebook: \n",
    "\n",
    "\n",
    "\n",
    "Bryan, G., Glaeser, E., Tsivanidis, N. (2020). Cities in the Developing World. Annual Review of Economics. Available at: https://www.annualreviews.org/doi/abs/10.1146/annurev-economics-080218-030303\n",
    "\n",
    "Rodríguez-Pose, A. (2020). The Rise of Populism and the Revenge of the Places That Don’t Matter. LSE Public Policy Review, 1(1), Page 4. DOI: Available at: http://doi.org/10.31389/lseppr.4"
   ]
  }
 ],
 "metadata": {
  "kernelspec": {
   "display_name": "Python 3 (ipykernel)",
   "language": "python",
   "name": "python3"
  },
  "language_info": {
   "codemirror_mode": {
    "name": "ipython",
    "version": 3
   },
   "file_extension": ".py",
   "mimetype": "text/x-python",
   "name": "python",
   "nbconvert_exporter": "python",
   "pygments_lexer": "ipython3",
   "version": "3.10.13"
  }
 },
 "nbformat": 4,
 "nbformat_minor": 5
}
